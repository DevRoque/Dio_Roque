{
 "cells": [
  {
   "cell_type": "markdown",
   "metadata": {},
   "source": [
    "<h1>Projeto de ETL BootCamp Santander</h1>\n",
    "<h2>Importação de bibliotecas</h2>\n",
    "<p>Estárei utilizando as seguintes bibliotécas para essa ETL:</p>"
   ]
  },
  {
   "cell_type": "code",
   "execution_count": null,
   "metadata": {},
   "outputs": [],
   "source": [
    "\n",
    "import os\n",
    "import pymysql\n",
    "import dotenv\n",
    "import pandas as pd"
   ]
  },
  {
   "cell_type": "markdown",
   "metadata": {},
   "source": [
    "<h2>Leitura e Tratamento</h2>\n",
    "\n",
    "<p>Foi criado uma função de renomear para facilitar no tratamento das colunas</p>\n",
    "<p>Alterando seu nome para agilizar as pesquisas</p>"
   ]
  },
  {
   "cell_type": "code",
   "execution_count": null,
   "metadata": {},
   "outputs": [],
   "source": [
    "def renomear(antigo, novo):\n",
    "    df_dados.rename(columns={antigo: novo}, inplace=True)\n",
    "    return df_dados\n",
    "\n",
    "\n",
    "ARQUIVO_CSV = 'dados.csv' # Arquivo para a ETL\n",
    "\n",
    "df_dados = pd.read_csv(ARQUIVO_CSV)    # Fazendo a leitura do arquivo CSV\n",
    "df_dados = renomear('Full Name', 'Name') # Renomeando colunas\n",
    "df_dados = renomear('Created At', 'Created_at')\n",
    "df_dados = renomear('User Id', 'User_Id')"
   ]
  },
  {
   "cell_type": "markdown",
   "metadata": {},
   "source": [
    "<h2>Conexão com o mysql e Constantes</h2>\n",
    "<p>aqui estou criando uma constante com o nome da tabela e carregando um arquivo .env para deixar as credenciais mais seguras</p>\n",
    "<h2>Conexão com o msqly e Constantes</h2>\n",
    "<p>Aqui estou criando uma constante com o nome da tabela e carregando um arquivo .env para deixar as credenciais mais seguras</p>\n",
    "<p>Estou utilizando também o pymysql para criar uma conexão com o banco de dados.</p>"
   ]
  },
  {
   "cell_type": "code",
   "execution_count": null,
   "metadata": {},
   "outputs": [],
   "source": [
    "TABELA_NOME = 'usuario'\n",
    "dotenv.load_dotenv()\n",
    "connection = pymysql.connect(\n",
    "    host=os.environ['MYSQL_HOST'],\n",
    "    user=os.environ['MYSQL_USER'],\n",
    "    password=os.environ['MYSQL_PASSWORD'],\n",
    "    database=os.environ['MYSQL_DATABASE'],\n",
    "    )"
   ]
  },
  {
   "cell_type": "markdown",
   "metadata": {},
   "source": [
    "<h2>Criando Tabela e inserindo dados </h2>\n",
    "<p>Após se conectar com o banco de dados é necessário criar a Tabela e inserir seus valores.</p>"
   ]
  },
  {
   "cell_type": "code",
   "execution_count": null,
   "metadata": {},
   "outputs": [],
   "source": [
    "with connection:\n",
    "    # Configurando o BD\n",
    "    with connection.cursor() as cursor:\n",
    "        sql = (f'CREATE TABLE IF NOT EXISTS {TABELA_NOME} ('\n",
    "                'id INT NOT NULL AUTO_INCREMENT, '\n",
    "                'Email VARCHAR(100) NOT NULL, '\n",
    "                'Name VARCHAR(150) NOT NULL, '\n",
    "                'Country VARCHAR(50) NOT NULL, '\n",
    "                'User_Id INT NOT NULL, '\n",
    "                'Created_at CHAR(100) NOT NULL, '\n",
    "                'PRIMARY KEY(Id)'\n",
    "                ') '\n",
    "               )\n",
    "        cursor.execute(sql)\n",
    "        \n",
    "        with connection.cursor() as cursor:\n",
    "            for index, row in df_dados.iterrows():  # utilizado um for para auto preenchimento das colunas\n",
    "                sql = (f'INSERT INTO {TABELA_NOME} ('\n",
    "                    'Email, '\n",
    "                    'Name, '\n",
    "                    'Country, '\n",
    "                    'User_Id, '\n",
    "                    'Created_at) '\n",
    "                    f'VALUES (%s, %s, %s, %s, %s)')\n",
    "\n",
    "                val = (row['Email'],\n",
    "                    row['Name'],\n",
    "                    row['Country'],\n",
    "                    row['User_Id'],\n",
    "                    row['Created_at'])\n",
    "\n",
    "                cursor.execute(sql, val)\n",
    "            connection.commit()"
   ]
  }
 ],
 "metadata": {
  "language_info": {
   "name": "python"
  },
  "orig_nbformat": 4
 },
 "nbformat": 4,
 "nbformat_minor": 2
}
